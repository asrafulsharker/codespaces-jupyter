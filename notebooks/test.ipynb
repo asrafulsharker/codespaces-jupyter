{
 "cells": [
  {
   "cell_type": "code",
   "execution_count": 1,
   "metadata": {},
   "outputs": [],
   "source": [
    "#!/usr/bin/env python\n",
    "__author__ = \"Asraful Sharker\"\n",
    "__license__ = \"Feel free to copy, I appreciate if you acknowledge Python for Microscopists\""
   ]
  },
  {
   "cell_type": "code",
   "execution_count": 2,
   "metadata": {},
   "outputs": [
    {
     "data": {
      "text/plain": [
       "'\\n@author: Asraful Sharker\\nImage shifts via the width_shift_range and height_shift_range arguments.\\nImage flips via the horizontal_flip and vertical_flip arguments.\\nImage rotations via the rotation_range argument\\nImage brightness via the brightness_range argument.\\nImage zoom via the zoom_range argument.\\n'"
      ]
     },
     "execution_count": 2,
     "metadata": {},
     "output_type": "execute_result"
    }
   ],
   "source": [
    "\"\"\"\n",
    "@author: Asraful Sharker\n",
    "Image shifts via the width_shift_range and height_shift_range arguments.\n",
    "Image flips via the horizontal_flip and vertical_flip arguments.\n",
    "Image rotations via the rotation_range argument\n",
    "Image brightness via the brightness_range argument.\n",
    "Image zoom via the zoom_range argument.\n",
    "\"\"\""
   ]
  },
  {
   "cell_type": "code",
   "execution_count": 3,
   "metadata": {},
   "outputs": [
    {
     "name": "stderr",
     "output_type": "stream",
     "text": [
      "2023-02-21 17:18:09.022608: I tensorflow/core/platform/cpu_feature_guard.cc:193] This TensorFlow binary is optimized with oneAPI Deep Neural Network Library (oneDNN) to use the following CPU instructions in performance-critical operations:  AVX2 AVX512F FMA\n",
      "To enable them in other operations, rebuild TensorFlow with the appropriate compiler flags.\n",
      "2023-02-21 17:18:11.522528: W tensorflow/compiler/xla/stream_executor/platform/default/dso_loader.cc:64] Could not load dynamic library 'libcudart.so.11.0'; dlerror: libcudart.so.11.0: cannot open shared object file: No such file or directory\n",
      "2023-02-21 17:18:11.522555: I tensorflow/compiler/xla/stream_executor/cuda/cudart_stub.cc:29] Ignore above cudart dlerror if you do not have a GPU set up on your machine.\n",
      "2023-02-21 17:18:17.459859: W tensorflow/compiler/xla/stream_executor/platform/default/dso_loader.cc:64] Could not load dynamic library 'libnvinfer.so.7'; dlerror: libnvinfer.so.7: cannot open shared object file: No such file or directory\n",
      "2023-02-21 17:18:17.460084: W tensorflow/compiler/xla/stream_executor/platform/default/dso_loader.cc:64] Could not load dynamic library 'libnvinfer_plugin.so.7'; dlerror: libnvinfer_plugin.so.7: cannot open shared object file: No such file or directory\n",
      "2023-02-21 17:18:17.460098: W tensorflow/compiler/tf2tensorrt/utils/py_utils.cc:38] TF-TRT Warning: Cannot dlopen some TensorRT libraries. If you would like to use Nvidia GPU with TensorRT, please make sure the missing libraries mentioned above are installed properly.\n"
     ]
    }
   ],
   "source": [
    "from keras.preprocessing.image import ImageDataGenerator\n",
    "from skimage import io"
   ]
  },
  {
   "attachments": {},
   "cell_type": "markdown",
   "metadata": {},
   "source": [
    "# Construct an instance of the ImageDataGenerator class\n",
    "# Pass the augmentation parameters through the constructor. "
   ]
  },
  {
   "cell_type": "code",
   "execution_count": 4,
   "metadata": {},
   "outputs": [],
   "source": [
    "datagen = ImageDataGenerator(\n",
    "        rotation_range=45,     #Random rotation between 0 and 45\n",
    "        width_shift_range=0.2,   #% shift\n",
    "        height_shift_range=0.2,\n",
    "        shear_range=0.2,\n",
    "        zoom_range=0.2,\n",
    "        horizontal_flip=True,\n",
    "        fill_mode='constant', cval=125)    #Also try nearest, constant, reflect, wrap"
   ]
  },
  {
   "attachments": {},
   "cell_type": "markdown",
   "metadata": {},
   "source": [
    "######################################################################\n",
    "#Loading a single image for demonstration purposes.\n",
    "#Using flow method to augment the image"
   ]
  },
  {
   "cell_type": "code",
   "execution_count": 6,
   "metadata": {},
   "outputs": [],
   "source": [
    "# Loading a sample image  \n",
    "#Can use any library to read images but they need to be in an array form\n",
    "#If using keras load_img convert it to an array first\n",
    "x = io.imread('./rose.jpg')  #Array with shape (256, 256, 3)"
   ]
  },
  {
   "cell_type": "code",
   "execution_count": 7,
   "metadata": {},
   "outputs": [],
   "source": [
    "# Reshape the input image because ...\n",
    "#x: Input data to datagen.flow must be Numpy array of rank 4 or a tuple.\n",
    "#First element represents the number of images\n",
    "x = x.reshape((1, ) + x.shape)  #Array with shape (1, 256, 256, 3)"
   ]
  },
  {
   "cell_type": "code",
   "execution_count": 9,
   "metadata": {},
   "outputs": [],
   "source": [
    "i = 0\n",
    "for batch in datagen.flow(x, batch_size=16,  \n",
    "                          save_to_dir='image', \n",
    "                          save_prefix='aug', \n",
    "                          save_format='png'):\n",
    "    i += 1\n",
    "    if i > 20:\n",
    "        break  # otherwise the generator would loop indefinitely  "
   ]
  },
  {
   "attachments": {},
   "cell_type": "markdown",
   "metadata": {},
   "source": [
    "####################################################################\n",
    "#Multiple images.\n",
    "#Manually read each image and create an array to be supplied to datagen via flow method"
   ]
  },
  {
   "cell_type": "code",
   "execution_count": 10,
   "metadata": {},
   "outputs": [],
   "source": [
    "dataset = []\n",
    "\n",
    "import numpy as np\n",
    "from skimage import io\n",
    "import os\n",
    "from PIL import Image"
   ]
  },
  {
   "cell_type": "code",
   "execution_count": 13,
   "metadata": {},
   "outputs": [],
   "source": [
    "image_directory = './dir_image/'\n",
    "SIZE = 128\n",
    "dataset = []"
   ]
  },
  {
   "cell_type": "code",
   "execution_count": 14,
   "metadata": {},
   "outputs": [],
   "source": [
    "my_images = os.listdir(image_directory)\n",
    "for i, image_name in enumerate(my_images):\n",
    "    if (image_name.split('.')[1] == 'jpg'):\n",
    "        image = io.imread(image_directory + image_name)\n",
    "        image = Image.fromarray(image, 'RGB')\n",
    "        image = image.resize((SIZE,SIZE))\n",
    "        dataset.append(np.array(image))"
   ]
  },
  {
   "cell_type": "code",
   "execution_count": 15,
   "metadata": {},
   "outputs": [],
   "source": [
    "x = np.array(dataset)"
   ]
  },
  {
   "attachments": {},
   "cell_type": "markdown",
   "metadata": {},
   "source": [
    "#Let us save images to get a feel for the augmented images.\n",
    "#Create an iterator either by using image dataset in memory (using flow() function)\n",
    "#or by using image dataset from a directory (using flow_from_directory)\n",
    "#from directory can beuseful if subdirectories are organized by class"
   ]
  },
  {
   "cell_type": "code",
   "execution_count": 16,
   "metadata": {},
   "outputs": [
    {
     "data": {
      "text/plain": [
       "\"   \\ni = 0\\nfor batch in datagen.flow(x, batch_size=16,  \\n                          save_to_dir='augmented', \\n                          save_prefix='aug', \\n                          save_format='png'):\\n    i += 1\\n    if i > 20:\\n        break  # otherwise the generator would loop indefinitely  \\n\""
      ]
     },
     "execution_count": 16,
     "metadata": {},
     "output_type": "execute_result"
    }
   ],
   "source": [
    "# Generating and saving 10 augmented samples  \n",
    "# using the above defined parameters.  \n",
    "#Again, flow generates batches of randomly augmented images\n",
    "\"\"\"   \n",
    "i = 0\n",
    "for batch in datagen.flow(x, batch_size=16,  \n",
    "                          save_to_dir='augmented', \n",
    "                          save_prefix='aug', \n",
    "                          save_format='png'):\n",
    "    i += 1\n",
    "    if i > 20:\n",
    "        break  # otherwise the generator would loop indefinitely  \n",
    "\"\"\""
   ]
  },
  {
   "cell_type": "code",
   "execution_count": 23,
   "metadata": {},
   "outputs": [
    {
     "name": "stdout",
     "output_type": "stream",
     "text": [
      "Found 21 images belonging to 2 classes.\n"
     ]
    }
   ],
   "source": [
    "\n",
    "#####################################################################\n",
    "#Multiclass. Read dirctly from the folder structure using flow_from_directory\n",
    "\n",
    "i = 0\n",
    "for batch in datagen.flow_from_directory(directory='../notebooks/', \n",
    "                                         batch_size=16,  \n",
    "                                         target_size=(256, 256),\n",
    "                                         color_mode=\"rgb\",\n",
    "                                         save_to_dir='dir_image', \n",
    "                                         save_prefix='aug', \n",
    "                                         save_format='png'):\n",
    "    i += 1\n",
    "    if i > 31:\n",
    "        break "
   ]
  },
  {
   "cell_type": "code",
   "execution_count": 30,
   "metadata": {},
   "outputs": [
    {
     "name": "stdout",
     "output_type": "stream",
     "text": [
      "Found 1 images belonging to 1 classes.\n"
     ]
    }
   ],
   "source": [
    "i = 0\n",
    "for batch in datagen.flow_from_directory(directory='./image/', \n",
    "                                         batch_size=16,  \n",
    "                                         target_size=(256, 256),\n",
    "                                         color_mode=\"rgb\",\n",
    "                                         save_to_dir='test4', \n",
    "                                         save_prefix='aug', \n",
    "                                         save_format='jpg'):\n",
    "    i += 1\n",
    "    if i > 3:\n",
    "        break "
   ]
  }
 ],
 "metadata": {
  "kernelspec": {
   "display_name": "Python 3",
   "language": "python",
   "name": "python3"
  },
  "language_info": {
   "codemirror_mode": {
    "name": "ipython",
    "version": 3
   },
   "file_extension": ".py",
   "mimetype": "text/x-python",
   "name": "python",
   "nbconvert_exporter": "python",
   "pygments_lexer": "ipython3",
   "version": "3.10.4"
  },
  "orig_nbformat": 4,
  "vscode": {
   "interpreter": {
    "hash": "3ad933181bd8a04b432d3370b9dc3b0662ad032c4dfaa4e4f1596c548f763858"
   }
  }
 },
 "nbformat": 4,
 "nbformat_minor": 2
}
